{
 "cells": [
  {
   "cell_type": "code",
   "execution_count": 1,
   "id": "bf1a7cd5-7be6-4680-b00d-dd51f8674e52",
   "metadata": {},
   "outputs": [
    {
     "name": "stdout",
     "output_type": "stream",
     "text": [
      "안녕하세요\n"
     ]
    }
   ],
   "source": [
    "print(\"안녕하세요\")"
   ]
  },
  {
   "cell_type": "code",
   "execution_count": 3,
   "id": "626d8a92-b4a9-4a4a-97f1-c0cad544e9f3",
   "metadata": {},
   "outputs": [
    {
     "name": "stdout",
     "output_type": "stream",
     "text": [
      "주피터\n"
     ]
    }
   ],
   "source": [
    "msg =\"주피터\"\n",
    "print(msg)"
   ]
  },
  {
   "cell_type": "code",
   "execution_count": 9,
   "id": "14c0e010-49d3-4e15-986d-48b04fd7b2da",
   "metadata": {},
   "outputs": [
    {
     "name": "stdout",
     "output_type": "stream",
     "text": [
      "사과\n",
      "바나나\n",
      "딸기\n",
      "포도\n"
     ]
    }
   ],
   "source": [
    "cart = [\"사과\",\"바나나\",\"딸기\",\"포도\"]\n",
    "# cart[0]\n",
    "# cart[-1]\n",
    "for i in cart:\n",
    "    print(i)"
   ]
  },
  {
   "cell_type": "code",
   "execution_count": 45,
   "id": "09b73a79-b4f4-496f-ab21-4061117d9a0b",
   "metadata": {},
   "outputs": [
    {
     "name": "stdout",
     "output_type": "stream",
     "text": [
      "13\n",
      "12\n",
      "0.9683213149620113\n",
      "8\n",
      "4\n",
      "4\n",
      "6\n",
      "1\n",
      "2\n",
      "6\n",
      "5\n",
      "1\n",
      "4\n",
      "1\n"
     ]
    }
   ],
   "source": [
    "import math\n",
    "import random\n",
    "\n",
    "v1 = math.ceil(12.56)\n",
    "print(v1)\n",
    "v2 = math.floor(12.56)\n",
    "print(v2)\n",
    "v3 = random.random()\n",
    "print(v3)\n",
    "v4 = random.randint(1,10)\n",
    "print(v4)\n",
    "\n",
    "for i in range(10):\n",
    "    dice = random.randint(1,6)\n",
    "    print(dice)"
   ]
  },
  {
   "cell_type": "code",
   "execution_count": 51,
   "id": "76b2b3fe-47b4-4aff-bfa1-83699d929cd3",
   "metadata": {},
   "outputs": [
    {
     "name": "stdout",
     "output_type": "stream",
     "text": [
      "10\n",
      "5\n"
     ]
    }
   ],
   "source": [
    "def my_abs(x):\n",
    "    if x < 0:\n",
    "        return -x\n",
    "    else:\n",
    "        return x\n",
    "print(my_abs(-10))\n",
    "print(my_abs(5))"
   ]
  },
  {
   "cell_type": "code",
   "execution_count": 127,
   "id": "944c4071-babd-4f09-9761-68f74367741b",
   "metadata": {},
   "outputs": [
    {
     "name": "stdout",
     "output_type": "stream",
     "text": [
      "모델명: 벤틀리, 연식 : 2022\n"
     ]
    }
   ],
   "source": [
    "class Car:\n",
    "    def __init__(self, model_name, year):\n",
    "        self.model_name = model_name\n",
    "        self.year = year\n",
    "\n",
    "    def __str__(self):\n",
    "        return f\"모델명: {self.model_name}, 연식 : {self.year}\"\n",
    "\n",
    "car1 = Car(\"벤틀리\", 2022)\n",
    "print(car1)"
   ]
  }
 ],
 "metadata": {
  "kernelspec": {
   "display_name": "Python 3 (ipykernel)",
   "language": "python",
   "name": "python3"
  },
  "language_info": {
   "codemirror_mode": {
    "name": "ipython",
    "version": 3
   },
   "file_extension": ".py",
   "mimetype": "text/x-python",
   "name": "python",
   "nbconvert_exporter": "python",
   "pygments_lexer": "ipython3",
   "version": "3.12.4"
  }
 },
 "nbformat": 4,
 "nbformat_minor": 5
}

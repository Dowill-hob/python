{
 "cells": [
  {
   "cell_type": "code",
   "execution_count": 6,
   "id": "7360fdb4-5351-4989-b997-12dffb58784f",
   "metadata": {},
   "outputs": [
    {
     "name": "stdout",
     "output_type": "stream",
     "text": [
      "[1 2 3 4 5 6 7]\n"
     ]
    }
   ],
   "source": [
    "import numpy as np\n",
    "\n",
    "a1 = np.array([1,2,3,4,5,6,7]) #,가 없음\n",
    "print(a1)"
   ]
  },
  {
   "cell_type": "code",
   "execution_count": 8,
   "id": "000cb477-34d0-4fbb-b89a-3dac265dbb5a",
   "metadata": {},
   "outputs": [
    {
     "name": "stdout",
     "output_type": "stream",
     "text": [
      "[[1 2 3]\n",
      " [4 5 6]]\n",
      "[[[1 2]\n",
      "  [3 4]]\n",
      "\n",
      " [[5 6]\n",
      "  [7 8]]]\n"
     ]
    }
   ],
   "source": [
    "a2 = np.array([ [1,2,3],[4,5,6]])\n",
    "print(a2)\n",
    "\n",
    "a3 = np.array([[ [1,2],[3,4] ] ,[[5,6 ],[7,8]] ])\n",
    "print(a3)"
   ]
  },
  {
   "cell_type": "code",
   "execution_count": 16,
   "id": "ec4ba407-3b26-4c5a-b8c5-bb62eacd87d5",
   "metadata": {},
   "outputs": [
    {
     "name": "stdout",
     "output_type": "stream",
     "text": [
      "(2, 3)\n",
      "2\n",
      "int64\n",
      "8\n",
      "6\n"
     ]
    }
   ],
   "source": [
    "print(a2.shape) # 배열 행,열\n",
    "print(a2.ndim) # 차원\n",
    "print(a2.dtype) #자료형\n",
    "print(a2.itemsize) # 바이트 단위\n",
    "print(a2.size) # 전체 요소 개수 2 * 3"
   ]
  },
  {
   "cell_type": "code",
   "execution_count": 22,
   "id": "57736edd-0ebe-4543-8faa-44a767396d31",
   "metadata": {},
   "outputs": [
    {
     "name": "stdout",
     "output_type": "stream",
     "text": [
      "3\n",
      "[3 9]\n"
     ]
    }
   ],
   "source": [
    "arr = np.array([[1,2,3],[4,5,6],[7,8,9]])\n",
    "# list 에서 배열 접근을 위해서는 a[1][2]\n",
    "print(arr[0,2])\n",
    "row = [0,2]\n",
    "cols = [2,2]\n",
    "print(arr[row,cols])"
   ]
  },
  {
   "cell_type": "code",
   "execution_count": 26,
   "id": "1b97988f-925c-4e6f-adb8-5d3117870dac",
   "metadata": {},
   "outputs": [
    {
     "name": "stdout",
     "output_type": "stream",
     "text": [
      "[30 40 50]\n",
      "[20 40]\n",
      "[10 20  0  0  0]\n",
      "[20  0]\n"
     ]
    }
   ],
   "source": [
    "arr = np.array([10,20,30,40,50])\n",
    "print(arr[arr > 20])\n",
    "print(arr[arr % 20 == 0])\n",
    "arr[arr > 20] = 0\n",
    "print(arr)\n",
    "lists = [1,2]\n",
    "print(arr[lists])"
   ]
  },
  {
   "cell_type": "code",
   "execution_count": 35,
   "id": "e5527b15-e822-4f3a-b404-712fa17d128b",
   "metadata": {},
   "outputs": [
    {
     "name": "stdout",
     "output_type": "stream",
     "text": [
      "[[0. 0. 0. 0.]\n",
      " [0. 0. 0. 0.]\n",
      " [0. 0. 0. 0.]\n",
      " [0. 0. 0. 0.]]\n",
      "\n",
      "[[1. 1. 1. 1.]\n",
      " [1. 1. 1. 1.]\n",
      " [1. 1. 1. 1.]\n",
      " [1. 1. 1. 1.]]\n",
      "\n",
      "[ 1  3  5  7  9 11 13 15 17 19]\n",
      "\n",
      "[0.         0.22222222 0.44444444 0.66666667 0.88888889 1.11111111\n",
      " 1.33333333 1.55555556 1.77777778 2.        ]\n"
     ]
    }
   ],
   "source": [
    "zero = np.zeros((4,4))\n",
    "print(zero)\n",
    "print()\n",
    "ones = np.ones((4,4))\n",
    "print(ones)\n",
    "print()\n",
    "ranges = np.arange(1,20,2) # 증가 간격이 명확할 때\n",
    "print(ranges)\n",
    "print()\n",
    "linspaces = np.linspace(0 , 2 ,10) # 지정된 구간을 일정한 값의 개수가 필요할 때 \n",
    "print(linspaces)"
   ]
  },
  {
   "cell_type": "code",
   "execution_count": 39,
   "id": "588b951c-64cb-4440-ae96-5d23e20bcf0d",
   "metadata": {},
   "outputs": [
    {
     "name": "stdout",
     "output_type": "stream",
     "text": [
      "[[ 1  2  3  4]\n",
      " [ 5  6  7  8]\n",
      " [ 9 10 11 12]]\n",
      "\n",
      "[[ 1  2  3  4  5  6]\n",
      " [ 7  8  9 10 11 12]\n",
      " [ 1  2  3  4  5  6]\n",
      " [ 7  8  9 10 11 12]\n",
      " [ 1  2  3  4  5  6]\n",
      " [ 7  8  9 10 11 12]]\n"
     ]
    }
   ],
   "source": [
    "arr = np.array([1,2,3,4,5,6,7,8,9,10,11,12])\n",
    "reshaped = np.reshape(arr,(3,4))\n",
    "print(reshaped)\n",
    "print()\n",
    "resized = np.resize(arr,(6,6))\n",
    "print(resized)"
   ]
  },
  {
   "cell_type": "code",
   "execution_count": 61,
   "id": "b9791333-7209-408d-ba23-b1d50c5eea08",
   "metadata": {},
   "outputs": [
    {
     "name": "stdout",
     "output_type": "stream",
     "text": [
      "[0.         0.5        0.70710678 0.8660254  1.        ]\n",
      "\n",
      "[1.00000000e+00 8.66025404e-01 7.07106781e-01 5.00000000e-01\n",
      " 6.12323400e-17]\n",
      "\n",
      "[0.00000000e+00 5.77350269e-01 1.00000000e+00 1.73205081e+00\n",
      " 1.63312394e+16]\n",
      "\n",
      "[0.         0.54785347 0.86867096 1.24936705 2.3012989 ]\n"
     ]
    }
   ],
   "source": [
    "# a = np.array([1,2,3])\n",
    "# b = np.array([4,5,6])\n",
    "\n",
    "# print(a+b)\n",
    "# print(a-b)\n",
    "# print(a*b)\n",
    "# print(a/b)\n",
    "\n",
    "# arr1 = np.array([1,5,7,12,49,81,64])\n",
    "# print(np.sqrt(arr1))\n",
    "# print()\n",
    "# print(np.exp(arr1))\n",
    "# print()\n",
    "# print(np.log(arr1))\n",
    "# print()\n",
    "\n",
    "angles = np.array([0,np.pi/6, np.pi/4,np.pi/3,np.pi/2])\n",
    "print(np.sin(angles))\n",
    "print()\n",
    "print(np.cos(angles))\n",
    "print()\n",
    "print(np.tan(angles))\n",
    "print()\n",
    "print(np.sinh(angles))"
   ]
  },
  {
   "cell_type": "code",
   "execution_count": 84,
   "id": "6ed714f0-546e-44af-a770-7dfa6f83a000",
   "metadata": {},
   "outputs": [
    {
     "name": "stdout",
     "output_type": "stream",
     "text": [
      "[1 2 3 4 5 6]\n",
      "[[1 2 3]\n",
      " [4 5 6]]\n",
      "[[1 4]\n",
      " [2 5]\n",
      " [3 6]]\n",
      "\n",
      "[array([[1],\n",
      "       [4]]), array([[2],\n",
      "       [5]]), array([[3],\n",
      "       [6]])]\n",
      "[array([[1, 2, 3]]), array([[4, 5, 6]])]\n"
     ]
    }
   ],
   "source": [
    "a = np.array([1,2,3])\n",
    "b = np.array([4,5,6])\n",
    "\n",
    "print(np.hstack((a,b)))\n",
    "print(np.vstack((a,b)))\n",
    "print( np.column_stack((a,b))) # 열기준 합치기\n",
    "print()\n",
    "\n",
    "a = np.array([[1,2,3], [4,5,6]])\n",
    "print(np.hsplit(a,3))\n",
    "print(np.vsplit(a,2))"
   ]
  },
  {
   "cell_type": "code",
   "execution_count": 87,
   "id": "1901d27f-7bbb-46dd-9b21-c8ecb968753e",
   "metadata": {},
   "outputs": [
    {
     "name": "stdout",
     "output_type": "stream",
     "text": [
      "[11 12 13 14 15]\n",
      "[[11 22 33]\n",
      " [14 25 36]]\n"
     ]
    }
   ],
   "source": [
    "a = np.array([1,2,3,4,5])\n",
    "num = 10\n",
    "print(num + a)\n",
    "\n",
    "a = np.array([[1,2,3],[4,5,6]])\n",
    "b = np.array([10,20,30])\n",
    "print(a+b)"
   ]
  },
  {
   "cell_type": "code",
   "execution_count": 203,
   "id": "bb9e751a-04ed-4a8f-bd34-a40353f5a88e",
   "metadata": {},
   "outputs": [
    {
     "name": "stdout",
     "output_type": "stream",
     "text": [
      "=============KBO 순위=============\n",
      "순위   \t팀    \t승    \t무    \t패    \t승률   \t\n",
      "1    \tKIA  \t87   \t55   \t2    \t0.613\t\n",
      "2    \t삼성   \t78   \t64   \t2    \t0.549\t\n",
      "3    \tLG   \t76   \t66   \t2    \t0.535\t\n",
      "4    \t두산   \t74   \t68   \t2    \t0.521\t\n",
      "5    \tKT   \t72   \t70   \t2    \t0.507\t\n",
      "6    \tSSG  \t72   \t70   \t2    \t0.507\t\n",
      "7    \t롯데   \t66   \t74   \t4    \t0.471\t\n",
      "8    \t한화   \t66   \t76   \t2    \t0.465\t\n",
      "9    \tNC   \t61   \t81   \t2    \t0.430\t\n",
      "10   \t키움   \t58   \t86   \t0    \t0.403\t\n",
      "\n"
     ]
    }
   ],
   "source": [
    "from bs4 import BeautifulSoup\n",
    "import requests\n",
    "\n",
    "html_url=\"https://www.koreabaseball.com/Record/TeamRank/TeamRankDaily.aspx\"\n",
    "res = requests.get(html_url)\n",
    "soup = BeautifulSoup(res.text, 'html.parser')\n",
    "\n",
    "kbo_data = [i.text for i in soup.select( \"#cphContents_cphContents_cphContents_udpRecord >table td\")]\n",
    "lists = [0,1,3,4,5,6]\n",
    "kbo_data = [value for idx, value in enumerate(kbo_data) if idx%12 in lists][:60]\n",
    "kbo_ranks = np.array(kbo_data).reshape((10,6))\n",
    "head = np.array([\"순위\",\"팀\",\"승\",\"무\",\"패\",\"승률\"])\n",
    "result = np.vstack([head,kbo_ranks])\n",
    "\n",
    "with open(\"rank.txt\",\"w\",encoding=\"utf-8\") as file:\n",
    "    file.write(\"=========================KBO 순위=========================\\n\")\n",
    "    for row in range(len(result)):\n",
    "        for col in range(result.shape[1]):\n",
    "            file.write(f\"{result[row][col]:<5}\\t\")\n",
    "        file.write(\"\\n\")\n",
    "\n",
    "with open(\"rank.txt\",'r',encoding=\"utf-8\") as file:\n",
    "    data = file.read()\n",
    "    print(data)\n",
    "    "
   ]
  },
  {
   "cell_type": "code",
   "execution_count": 215,
   "id": "9241d445-abdb-40b2-b81c-1201982fd31a",
   "metadata": {},
   "outputs": [
    {
     "name": "stdout",
     "output_type": "stream",
     "text": [
      "순위\t팀\t승\t무\t패\t승률\n",
      "1\tKIA\t87\t55\t2\t0.613\n",
      "2\t삼성\t78\t64\t2\t0.549\n",
      "3\tLG\t76\t66\t2\t0.535\n",
      "4\t두산\t74\t68\t2\t0.521\n",
      "5\tKT\t72\t70\t2\t0.507\n",
      "6\tSSG\t72\t70\t2\t0.507\n",
      "7\t롯데\t66\t74\t4\t0.471\n",
      "8\t한화\t66\t76\t2\t0.465\n",
      "9\tNC\t61\t81\t2\t0.430\n",
      "10\t키움\t58\t86\t0\t0.403\n",
      "\n"
     ]
    }
   ],
   "source": [
    "from bs4 import BeautifulSoup\n",
    "import requests\n",
    "\n",
    "html_url=\"https://www.koreabaseball.com/Record/TeamRank/TeamRankDaily.aspx\"\n",
    "res = requests.get(html_url)\n",
    "soup = BeautifulSoup(res.text, 'html.parser')\n",
    "\n",
    "data = soup.find( \"table\", attrs={\"class\":\"tData\"})\n",
    "values = data.find_all(\"tr\")[1:]\n",
    "\n",
    "lists = []\n",
    "for value in values:\n",
    "    tds = value.find_all(\"td\")\n",
    "    tds = [i.text.strip() for i in tds]\n",
    "\n",
    "    lists.append([tds[0], tds[1],tds[3],tds[4],tds[5],tds[6]])\n",
    "\n",
    "\n",
    "array =np.array(lists)\n",
    "#print(array)\n",
    "\n",
    "file_name = \"rank2.txt\"\n",
    "header = \"순위\\t팀\\t승\\t무\\t패\\t승률\"\n",
    "with open(file_name,\"w\",encoding=\"utf-8\") as file:\n",
    "    #헤더 쓰기\n",
    "    file.write(header + \"\\n\")\n",
    "    for data in array:\n",
    "        file.write(\"\\t\".join(data)+\"\\n\")\n",
    "\n",
    "with open(file_name,'r',encoding=\"utf-8\") as file:\n",
    "    data = file.read()\n",
    "    print(data)"
   ]
  },
  {
   "cell_type": "code",
   "execution_count": 2,
   "id": "4d438d7e",
   "metadata": {},
   "outputs": [
    {
     "data": {
      "text/html": [
       "<div>\n",
       "<style scoped>\n",
       "    .dataframe tbody tr th:only-of-type {\n",
       "        vertical-align: middle;\n",
       "    }\n",
       "\n",
       "    .dataframe tbody tr th {\n",
       "        vertical-align: top;\n",
       "    }\n",
       "\n",
       "    .dataframe thead th {\n",
       "        text-align: right;\n",
       "    }\n",
       "</style>\n",
       "<table border=\"1\" class=\"dataframe\">\n",
       "  <thead>\n",
       "    <tr style=\"text-align: right;\">\n",
       "      <th></th>\n",
       "      <th>Name</th>\n",
       "      <th>Age</th>\n",
       "      <th>City</th>\n",
       "    </tr>\n",
       "  </thead>\n",
       "  <tbody>\n",
       "    <tr>\n",
       "      <th>0</th>\n",
       "      <td>홍길동</td>\n",
       "      <td>25</td>\n",
       "      <td>서울</td>\n",
       "    </tr>\n",
       "    <tr>\n",
       "      <th>1</th>\n",
       "      <td>임꺽정</td>\n",
       "      <td>30</td>\n",
       "      <td>부산</td>\n",
       "    </tr>\n",
       "    <tr>\n",
       "      <th>2</th>\n",
       "      <td>성춘향</td>\n",
       "      <td>27</td>\n",
       "      <td>인천</td>\n",
       "    </tr>\n",
       "  </tbody>\n",
       "</table>\n",
       "</div>"
      ],
      "text/plain": [
       "  Name  Age City\n",
       "0  홍길동   25   서울\n",
       "1  임꺽정   30   부산\n",
       "2  성춘향   27   인천"
      ]
     },
     "execution_count": 2,
     "metadata": {},
     "output_type": "execute_result"
    }
   ],
   "source": [
    "import pandas as pd\n",
    "# 데이터 프레임\n",
    "data = {\n",
    "    'Name': ['홍길동', '임꺽정', '성춘향'],\n",
    "    'Age': [25, 30, 27],\n",
    "    'City': ['서울', '부산', '인천']\n",
    "}\n",
    "df = pd.DataFrame(data)\n",
    "df\n"
   ]
  },
  {
   "cell_type": "code",
   "execution_count": 16,
   "id": "928aefbd",
   "metadata": {},
   "outputs": [
    {
     "data": {
      "text/html": [
       "<div>\n",
       "<style scoped>\n",
       "    .dataframe tbody tr th:only-of-type {\n",
       "        vertical-align: middle;\n",
       "    }\n",
       "\n",
       "    .dataframe tbody tr th {\n",
       "        vertical-align: top;\n",
       "    }\n",
       "\n",
       "    .dataframe thead th {\n",
       "        text-align: right;\n",
       "    }\n",
       "</style>\n",
       "<table border=\"1\" class=\"dataframe\">\n",
       "  <thead>\n",
       "    <tr style=\"text-align: right;\">\n",
       "      <th></th>\n",
       "      <th>영희</th>\n",
       "      <th>철수</th>\n",
       "    </tr>\n",
       "  </thead>\n",
       "  <tbody>\n",
       "    <tr>\n",
       "      <th>2020</th>\n",
       "      <td>140</td>\n",
       "      <td>200</td>\n",
       "    </tr>\n",
       "    <tr>\n",
       "      <th>2021</th>\n",
       "      <td>150</td>\n",
       "      <td>210</td>\n",
       "    </tr>\n",
       "    <tr>\n",
       "      <th>2022</th>\n",
       "      <td>160</td>\n",
       "      <td>220</td>\n",
       "    </tr>\n",
       "    <tr>\n",
       "      <th>2023</th>\n",
       "      <td>170</td>\n",
       "      <td>230</td>\n",
       "    </tr>\n",
       "    <tr>\n",
       "      <th>2024</th>\n",
       "      <td>180</td>\n",
       "      <td>240</td>\n",
       "    </tr>\n",
       "    <tr>\n",
       "      <th>2025</th>\n",
       "      <td>190</td>\n",
       "      <td>250</td>\n",
       "    </tr>\n",
       "  </tbody>\n",
       "</table>\n",
       "</div>"
      ],
      "text/plain": [
       "       영희   철수\n",
       "2020  140  200\n",
       "2021  150  210\n",
       "2022  160  220\n",
       "2023  170  230\n",
       "2024  180  240\n",
       "2025  190  250"
      ]
     },
     "execution_count": 16,
     "metadata": {},
     "output_type": "execute_result"
    }
   ],
   "source": [
    "\n",
    "index = ['2020','2021','2022','2023','2024','2025']\n",
    "yeonghee = pd.Series([140,150,160,170,180,190], index = index)\n",
    "cheolsu = pd.Series([200,210,220,230,240,250], index = index)\n",
    "\n",
    "result = pd.DataFrame({\n",
    "    '영희' : yeonghee,\n",
    "    '철수' : cheolsu\n",
    "})\n",
    "\n",
    "result\n"
   ]
  },
  {
   "cell_type": "code",
   "execution_count": 9,
   "id": "ef0dc9e4",
   "metadata": {},
   "outputs": [
    {
     "data": {
      "text/html": [
       "<div>\n",
       "<style scoped>\n",
       "    .dataframe tbody tr th:only-of-type {\n",
       "        vertical-align: middle;\n",
       "    }\n",
       "\n",
       "    .dataframe tbody tr th {\n",
       "        vertical-align: top;\n",
       "    }\n",
       "\n",
       "    .dataframe thead th {\n",
       "        text-align: right;\n",
       "    }\n",
       "</style>\n",
       "<table border=\"1\" class=\"dataframe\">\n",
       "  <thead>\n",
       "    <tr style=\"text-align: right;\">\n",
       "      <th></th>\n",
       "      <th>영희</th>\n",
       "      <th>철수</th>\n",
       "    </tr>\n",
       "  </thead>\n",
       "  <tbody>\n",
       "    <tr>\n",
       "      <th>2021</th>\n",
       "      <td>150</td>\n",
       "      <td>210</td>\n",
       "    </tr>\n",
       "    <tr>\n",
       "      <th>2022</th>\n",
       "      <td>160</td>\n",
       "      <td>220</td>\n",
       "    </tr>\n",
       "    <tr>\n",
       "      <th>2023</th>\n",
       "      <td>170</td>\n",
       "      <td>230</td>\n",
       "    </tr>\n",
       "    <tr>\n",
       "      <th>2024</th>\n",
       "      <td>180</td>\n",
       "      <td>240</td>\n",
       "    </tr>\n",
       "    <tr>\n",
       "      <th>2025</th>\n",
       "      <td>190</td>\n",
       "      <td>250</td>\n",
       "    </tr>\n",
       "  </tbody>\n",
       "</table>\n",
       "</div>"
      ],
      "text/plain": [
       "       영희   철수\n",
       "2021  150  210\n",
       "2022  160  220\n",
       "2023  170  230\n",
       "2024  180  240\n",
       "2025  190  250"
      ]
     },
     "execution_count": 9,
     "metadata": {},
     "output_type": "execute_result"
    }
   ],
   "source": [
    "result.head() # 상위 5개만 가져옴\n",
    "result.tail() # 하위"
   ]
  },
  {
   "cell_type": "code",
   "execution_count": 15,
   "id": "b91daa76",
   "metadata": {},
   "outputs": [
    {
     "name": "stdout",
     "output_type": "stream",
     "text": [
      "<class 'pandas.core.frame.DataFrame'>\n",
      "Index: 6 entries, 2020 to 2025\n",
      "Data columns (total 2 columns):\n",
      " #   Column  Non-Null Count  Dtype  \n",
      "---  ------  --------------  -----  \n",
      " 0   영희      6 non-null      int64  \n",
      " 1   철수      5 non-null      float64\n",
      "dtypes: float64(1), int64(1)\n",
      "memory usage: 144.0+ bytes\n"
     ]
    }
   ],
   "source": [
    "#result.shape\n",
    "result.info()"
   ]
  },
  {
   "cell_type": "code",
   "execution_count": null,
   "id": "04809455",
   "metadata": {},
   "outputs": [
    {
     "data": {
      "text/html": [
       "<div>\n",
       "<style scoped>\n",
       "    .dataframe tbody tr th:only-of-type {\n",
       "        vertical-align: middle;\n",
       "    }\n",
       "\n",
       "    .dataframe tbody tr th {\n",
       "        vertical-align: top;\n",
       "    }\n",
       "\n",
       "    .dataframe thead th {\n",
       "        text-align: right;\n",
       "    }\n",
       "</style>\n",
       "<table border=\"1\" class=\"dataframe\">\n",
       "  <thead>\n",
       "    <tr style=\"text-align: right;\">\n",
       "      <th></th>\n",
       "      <th>철수</th>\n",
       "    </tr>\n",
       "  </thead>\n",
       "  <tbody>\n",
       "    <tr>\n",
       "      <th>2020</th>\n",
       "      <td>200</td>\n",
       "    </tr>\n",
       "    <tr>\n",
       "      <th>2021</th>\n",
       "      <td>210</td>\n",
       "    </tr>\n",
       "    <tr>\n",
       "      <th>2022</th>\n",
       "      <td>220</td>\n",
       "    </tr>\n",
       "    <tr>\n",
       "      <th>2023</th>\n",
       "      <td>230</td>\n",
       "    </tr>\n",
       "    <tr>\n",
       "      <th>2024</th>\n",
       "      <td>240</td>\n",
       "    </tr>\n",
       "    <tr>\n",
       "      <th>2025</th>\n",
       "      <td>250</td>\n",
       "    </tr>\n",
       "  </tbody>\n",
       "</table>\n",
       "</div>"
      ],
      "text/plain": [
       "       철수\n",
       "2020  200\n",
       "2021  210\n",
       "2022  220\n",
       "2023  230\n",
       "2024  240\n",
       "2025  250"
      ]
     },
     "execution_count": 24,
     "metadata": {},
     "output_type": "execute_result"
    }
   ],
   "source": [
    "# result.columns\n",
    "# result.values\n",
    "# result.index\n",
    "# result.dtypes\n",
    "# print(result['철수'])\n",
    "# result[['철수']]\n"
   ]
  },
  {
   "cell_type": "code",
   "execution_count": null,
   "id": "55ab0ed5",
   "metadata": {},
   "outputs": [
    {
     "data": {
      "text/plain": [
       "Name    홍길동\n",
       "Age      25\n",
       "City     서울\n",
       "Name: a, dtype: object"
      ]
     },
     "execution_count": 48,
     "metadata": {},
     "output_type": "execute_result"
    }
   ],
   "source": [
    "data = {\n",
    "    'Name': ['홍길동', '임꺽정', '성춘향'],\n",
    "    'Age': [25, 30, 27],\n",
    "    'City': ['서울', '부산', '인천']\n",
    "}\n",
    "df = pd.DataFrame(data, index=['a','b','c'])\n",
    "# df.loc['b']\n",
    "# df.loc['b','Age']\n",
    "# df.loc['a':'c','Name':'Age']\n",
    "# df.loc[df['Age'] >= 30]\n",
    "# df.loc[:, 'Name'] #( : , )전체라는 뜻\n",
    "# df.loc['a', :]\n",
    "# df.iloc[0]\n",
    "# df.iloc[1,2]\n",
    "# df.iloc[0:2, 0:2] # 끝값포함 안되\n",
    "# df.iloc[[0,2], [1,2]]\n",
    "# df.iloc[:, 0]\n",
    "df.iloc[0, :]\n"
   ]
  },
  {
   "cell_type": "code",
   "execution_count": null,
   "id": "12656327",
   "metadata": {},
   "outputs": [
    {
     "name": "stdout",
     "output_type": "stream",
     "text": [
      "기본 DataFrame:\n",
      "   Name  Age City\n",
      "0  홍길동   25   서울\n",
      "1  임꺽정   30   부산\n",
      "2  성춘향   27   인천\n"
     ]
    },
    {
     "data": {
      "text/html": [
       "<div>\n",
       "<style scoped>\n",
       "    .dataframe tbody tr th:only-of-type {\n",
       "        vertical-align: middle;\n",
       "    }\n",
       "\n",
       "    .dataframe tbody tr th {\n",
       "        vertical-align: top;\n",
       "    }\n",
       "\n",
       "    .dataframe thead th {\n",
       "        text-align: right;\n",
       "    }\n",
       "</style>\n",
       "<table border=\"1\" class=\"dataframe\">\n",
       "  <thead>\n",
       "    <tr style=\"text-align: right;\">\n",
       "      <th></th>\n",
       "      <th>이름</th>\n",
       "      <th>나이</th>\n",
       "      <th>직업</th>\n",
       "    </tr>\n",
       "  </thead>\n",
       "  <tbody>\n",
       "    <tr>\n",
       "      <th>1</th>\n",
       "      <td>임꺽정</td>\n",
       "      <td>32</td>\n",
       "      <td>개발자</td>\n",
       "    </tr>\n",
       "    <tr>\n",
       "      <th>3</th>\n",
       "      <td>이몽룡</td>\n",
       "      <td>31</td>\n",
       "      <td>기획자</td>\n",
       "    </tr>\n",
       "    <tr>\n",
       "      <th>2</th>\n",
       "      <td>성춘향</td>\n",
       "      <td>27</td>\n",
       "      <td>디자이너</td>\n",
       "    </tr>\n",
       "    <tr>\n",
       "      <th>0</th>\n",
       "      <td>홍길동</td>\n",
       "      <td>25</td>\n",
       "      <td>엔지니어</td>\n",
       "    </tr>\n",
       "  </tbody>\n",
       "</table>\n",
       "</div>"
      ],
      "text/plain": [
       "    이름  나이    직업\n",
       "1  임꺽정  32   개발자\n",
       "3  이몽룡  31   기획자\n",
       "2  성춘향  27  디자이너\n",
       "0  홍길동  25  엔지니어"
      ]
     },
     "execution_count": 68,
     "metadata": {},
     "output_type": "execute_result"
    }
   ],
   "source": [
    "data = {\n",
    "    'Name': ['홍길동', '임꺽정', '성춘향'],\n",
    "    'Age': [25, 30, 27],\n",
    "    'City': ['서울', '부산', '인천']\n",
    "}\n",
    "\n",
    "df = pd.DataFrame(data)\n",
    "print(\"기본 DataFrame:\\n\",df)\n",
    "\n",
    "# 행 추가\n",
    "new_data ={'Name': '이몽룡', 'Age':31,'City':'포함'}\n",
    "result = pd.concat([df, pd.DataFrame([new_data]) ], ignore_index=True)\n",
    "result\n",
    "\n",
    "# 열 추가\n",
    "result[\"직업\"] = [\"엔지니어\",\"개발자\",\"디자이너\",\"기획자\"]\n",
    "result\n",
    "\n",
    "# 값 수정\n",
    "result.at[1,\"City\"] =\"천안\"\n",
    "result.loc[result['Name'] == \"임꺽정\", \"Age\"] = 32\n",
    "result\n",
    "\n",
    "# 칼럼 이름 변경\n",
    "result.rename(columns={'Name' : '이름','Age' : '나이'}, inplace=True)\n",
    "result\n",
    "\n",
    "# 데이터 정렬(내림차순)\n",
    "result.sort_values(by='나이', inplace=True, ascending=False)\n",
    "result\n",
    "\n",
    "# 컬럼 삭제\n",
    "result.drop(columns=['City'],inplace=True)\n",
    "result\n",
    "\n"
   ]
  },
  {
   "cell_type": "code",
   "execution_count": 82,
   "id": "01773477",
   "metadata": {},
   "outputs": [
    {
     "data": {
      "text/html": [
       "<div>\n",
       "<style scoped>\n",
       "    .dataframe tbody tr th:only-of-type {\n",
       "        vertical-align: middle;\n",
       "    }\n",
       "\n",
       "    .dataframe tbody tr th {\n",
       "        vertical-align: top;\n",
       "    }\n",
       "\n",
       "    .dataframe thead th {\n",
       "        text-align: right;\n",
       "    }\n",
       "</style>\n",
       "<table border=\"1\" class=\"dataframe\">\n",
       "  <thead>\n",
       "    <tr style=\"text-align: right;\">\n",
       "      <th></th>\n",
       "      <th>이름</th>\n",
       "      <th>Math</th>\n",
       "      <th>영어</th>\n",
       "      <th>과학</th>\n",
       "      <th>Total</th>\n",
       "    </tr>\n",
       "  </thead>\n",
       "  <tbody>\n",
       "    <tr>\n",
       "      <th>0</th>\n",
       "      <td>홍길동</td>\n",
       "      <td>85</td>\n",
       "      <td>88</td>\n",
       "      <td>95</td>\n",
       "      <td>268</td>\n",
       "    </tr>\n",
       "    <tr>\n",
       "      <th>1</th>\n",
       "      <td>임꺽정</td>\n",
       "      <td>90</td>\n",
       "      <td>80</td>\n",
       "      <td>89</td>\n",
       "      <td>255</td>\n",
       "    </tr>\n",
       "    <tr>\n",
       "      <th>2</th>\n",
       "      <td>성춘향</td>\n",
       "      <td>78</td>\n",
       "      <td>92</td>\n",
       "      <td>84</td>\n",
       "      <td>254</td>\n",
       "    </tr>\n",
       "    <tr>\n",
       "      <th>3</th>\n",
       "      <td>이몽룡</td>\n",
       "      <td>88</td>\n",
       "      <td>85</td>\n",
       "      <td>90</td>\n",
       "      <td>263</td>\n",
       "    </tr>\n",
       "  </tbody>\n",
       "</table>\n",
       "</div>"
      ],
      "text/plain": [
       "    이름  Math  영어  과학  Total\n",
       "0  홍길동    85  88  95    268\n",
       "1  임꺽정    90  80  89    255\n",
       "2  성춘향    78  92  84    254\n",
       "3  이몽룡    88  85  90    263"
      ]
     },
     "execution_count": 82,
     "metadata": {},
     "output_type": "execute_result"
    }
   ],
   "source": [
    "# 실습2. 데이터프레임 만들기\n",
    "data = {\n",
    "    '이름':['홍길동','임꺽정','성춘향'],\n",
    "    '수학':[85,90,78],\n",
    "    '영어':[88,76,92],\n",
    "    '과학':[95,89,84]\n",
    "}\n",
    "\n",
    "df = pd.DataFrame(data)\n",
    "# new_data 추가\n",
    "new_data={'이름':'이몽룡','수학':88,'영어':85,'과학':90}\n",
    "df = pd.concat([df,pd.DataFrame([new_data])],ignore_index=True)\n",
    "# 열 추가\n",
    "df['Total'] = df['수학']+df['영어']+df['과학']\n",
    "# df.at[1,'영어'] =80\n",
    "df.loc[df['이름'] == '임꺽정','영어' ]=80\n",
    "# 컬럼 이름 변경\n",
    "df.rename(columns={'수학' : 'Math'}, inplace=True)\n",
    "\n",
    "df\n"
   ]
  }
 ],
 "metadata": {
  "kernelspec": {
   "display_name": "kdt_energy1_1",
   "language": "python",
   "name": "python3"
  },
  "language_info": {
   "codemirror_mode": {
    "name": "ipython",
    "version": 3
   },
   "file_extension": ".py",
   "mimetype": "text/x-python",
   "name": "python",
   "nbconvert_exporter": "python",
   "pygments_lexer": "ipython3",
   "version": "3.12.7"
  }
 },
 "nbformat": 4,
 "nbformat_minor": 5
}

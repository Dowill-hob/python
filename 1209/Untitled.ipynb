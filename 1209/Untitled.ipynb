{
 "cells": [
  {
   "cell_type": "code",
   "execution_count": 19,
   "id": "f69e3394",
   "metadata": {},
   "outputs": [
    {
     "name": "stderr",
     "output_type": "stream",
     "text": [
      "C:\\Users\\wiewk\\AppData\\Local\\Temp\\ipykernel_11124\\4034729781.py:18: FutureWarning: DataFrame.fillna with 'method' is deprecated and will raise in a future version. Use obj.ffill() or obj.bfill() instead.\n",
      "  df_fill_b = df.fillna(method=\"bfill\") # 다음 값으로 채우기\n"
     ]
    },
    {
     "data": {
      "text/html": [
       "<div>\n",
       "<style scoped>\n",
       "    .dataframe tbody tr th:only-of-type {\n",
       "        vertical-align: middle;\n",
       "    }\n",
       "\n",
       "    .dataframe tbody tr th {\n",
       "        vertical-align: top;\n",
       "    }\n",
       "\n",
       "    .dataframe thead th {\n",
       "        text-align: right;\n",
       "    }\n",
       "</style>\n",
       "<table border=\"1\" class=\"dataframe\">\n",
       "  <thead>\n",
       "    <tr style=\"text-align: right;\">\n",
       "      <th></th>\n",
       "      <th>Name</th>\n",
       "      <th>Age</th>\n",
       "      <th>City</th>\n",
       "    </tr>\n",
       "  </thead>\n",
       "  <tbody>\n",
       "    <tr>\n",
       "      <th>0</th>\n",
       "      <td>홍길동</td>\n",
       "      <td>25.0</td>\n",
       "      <td>서울</td>\n",
       "    </tr>\n",
       "    <tr>\n",
       "      <th>1</th>\n",
       "      <td>임꺽정</td>\n",
       "      <td>20.0</td>\n",
       "      <td>부산</td>\n",
       "    </tr>\n",
       "    <tr>\n",
       "      <th>2</th>\n",
       "      <td>성춘향</td>\n",
       "      <td>20.0</td>\n",
       "      <td>None</td>\n",
       "    </tr>\n",
       "  </tbody>\n",
       "</table>\n",
       "</div>"
      ],
      "text/plain": [
       "  Name   Age  City\n",
       "0  홍길동  25.0    서울\n",
       "1  임꺽정  20.0    부산\n",
       "2  성춘향  20.0  None"
      ]
     },
     "execution_count": 19,
     "metadata": {},
     "output_type": "execute_result"
    }
   ],
   "source": [
    "import pandas as pd\n",
    "\n",
    "data = {\n",
    "    \"Name\" : [\"홍길동\",\"임꺽정\", \"성춘향\"],\n",
    "    \"Age\" : [25,None,20],\n",
    "    \"City\" : [\"서울\",\"부산\",None]\n",
    "}\n",
    "\n",
    "df = pd.DataFrame(data)\n",
    "# df\n",
    "# df.isnull()\n",
    "# df.isnull().sum()\n",
    "# df.dropna()\n",
    "# df.info()\n",
    "# df_drop_column = df.dropna(axis=1) # 행 삭제\n",
    "# df_drop_column\n",
    "# df_fill_f = df.fillna(method=\"ffill\") # 이전 값으로 채우기\n",
    "df_fill_b = df.fillna(method=\"bfill\") # 다음 값으로 채우기\n",
    "df_fill_b"
   ]
  },
  {
   "cell_type": "code",
   "execution_count": null,
   "id": "582d4acf",
   "metadata": {},
   "outputs": [
    {
     "data": {
      "text/plain": [
       "0     True\n",
       "1    False\n",
       "2    False\n",
       "3     True\n",
       "dtype: bool"
      ]
     },
     "execution_count": 20,
     "metadata": {},
     "output_type": "execute_result"
    }
   ],
   "source": [
    "# isin() 메서드\n",
    "s = pd.Series([\"홍길동\",\"임꺽정\",\"성춘향\",\"이몽룡\"])\n",
    "result = s.isin([\"홍길동\",\"이몽룡\"])\n",
    "result"
   ]
  },
  {
   "cell_type": "code",
   "execution_count": 22,
   "id": "6c5a4e65",
   "metadata": {},
   "outputs": [
    {
     "data": {
      "text/html": [
       "<div>\n",
       "<style scoped>\n",
       "    .dataframe tbody tr th:only-of-type {\n",
       "        vertical-align: middle;\n",
       "    }\n",
       "\n",
       "    .dataframe tbody tr th {\n",
       "        vertical-align: top;\n",
       "    }\n",
       "\n",
       "    .dataframe thead th {\n",
       "        text-align: right;\n",
       "    }\n",
       "</style>\n",
       "<table border=\"1\" class=\"dataframe\">\n",
       "  <thead>\n",
       "    <tr style=\"text-align: right;\">\n",
       "      <th></th>\n",
       "      <th>Name</th>\n",
       "      <th>Age</th>\n",
       "    </tr>\n",
       "  </thead>\n",
       "  <tbody>\n",
       "    <tr>\n",
       "      <th>0</th>\n",
       "      <td>True</td>\n",
       "      <td>False</td>\n",
       "    </tr>\n",
       "    <tr>\n",
       "      <th>1</th>\n",
       "      <td>False</td>\n",
       "      <td>False</td>\n",
       "    </tr>\n",
       "    <tr>\n",
       "      <th>2</th>\n",
       "      <td>True</td>\n",
       "      <td>False</td>\n",
       "    </tr>\n",
       "    <tr>\n",
       "      <th>3</th>\n",
       "      <td>False</td>\n",
       "      <td>False</td>\n",
       "    </tr>\n",
       "  </tbody>\n",
       "</table>\n",
       "</div>"
      ],
      "text/plain": [
       "    Name    Age\n",
       "0   True  False\n",
       "1  False  False\n",
       "2   True  False\n",
       "3  False  False"
      ]
     },
     "execution_count": 22,
     "metadata": {},
     "output_type": "execute_result"
    }
   ],
   "source": [
    "data={\n",
    "    \"Name\" : [\"홍길동\",\"임꺽정\",\"성춘향\",\"이몽룡\"],\n",
    "    \"Age\" : [25,30,20,32]\n",
    "}\n",
    "df = pd.DataFrame(data)\n",
    "\n",
    "result = df.isin([\"성춘향\",\"홍길동\"])\n",
    "result"
   ]
  },
  {
   "cell_type": "code",
   "execution_count": null,
   "id": "db4ba71a",
   "metadata": {},
   "outputs": [
    {
     "data": {
      "text/plain": [
       "0    False\n",
       "1     True\n",
       "2    False\n",
       "dtype: bool"
      ]
     },
     "execution_count": 23,
     "metadata": {},
     "output_type": "execute_result"
    }
   ],
   "source": [
    "s = pd.Series([1,2,None])\n",
    "result = s.isin([None,2]) # 결측값 무시\n",
    "result"
   ]
  },
  {
   "cell_type": "code",
   "execution_count": 35,
   "id": "1b5d5ea2",
   "metadata": {},
   "outputs": [
    {
     "data": {
      "text/plain": [
       "0     True\n",
       "1    False\n",
       "2     True\n",
       "3     True\n",
       "Name: Name, dtype: bool"
      ]
     },
     "execution_count": 35,
     "metadata": {},
     "output_type": "execute_result"
    }
   ],
   "source": [
    "data={\n",
    "    \"Name\" : [\"홍길동\",\"임꺽정\",\"성춘향\",\"이몽룡\"],\n",
    "    \"Age\" : [25,30,20,32]\n",
    "}\n",
    "df = pd.DataFrame(data)\n",
    "result = df['Name'].isin([\"성춘향\",\"홍길동\",\"이몽룡\"])\n",
    "result\n"
   ]
  },
  {
   "cell_type": "code",
   "execution_count": 24,
   "id": "6e296bc1",
   "metadata": {},
   "outputs": [
    {
     "data": {
      "text/plain": [
       "사과     3\n",
       "바나나    2\n",
       "오렌지    1\n",
       "Name: count, dtype: int64"
      ]
     },
     "execution_count": 24,
     "metadata": {},
     "output_type": "execute_result"
    }
   ],
   "source": [
    "s = pd.Series([\"사과\", \"바나나\",\"사과\",\"오렌지\",\"바나나\",\"사과\"])\n",
    "s.value_counts()"
   ]
  },
  {
   "cell_type": "code",
   "execution_count": null,
   "id": "498d80fd",
   "metadata": {},
   "outputs": [
    {
     "data": {
      "text/plain": [
       "과일\n",
       "사과     3\n",
       "바나나    2\n",
       "오렌지    1\n",
       "Name: count, dtype: int64"
      ]
     },
     "execution_count": 30,
     "metadata": {},
     "output_type": "execute_result"
    }
   ],
   "source": [
    "df = pd.DataFrame({\n",
    "    \"과일\" : ['사과','바나나','사과', '오렌지','바나나','사과'],\n",
    "    '수량' : [1,2,3,4,5,6]\n",
    "\n",
    "})\n",
    "#df['과일'].value_counts(normalize=True) # 빈도르 비율(%)\n",
    "#df['과일'].value_counts(ascending=True) # 오름차순\n",
    "df['과일'].value_counts(dro)\n"
   ]
  },
  {
   "cell_type": "code",
   "execution_count": 36,
   "id": "af14ab2a",
   "metadata": {},
   "outputs": [
    {
     "data": {
      "text/plain": [
       "sum     15.0\n",
       "mean     3.0\n",
       "max      5.0\n",
       "dtype: float64"
      ]
     },
     "execution_count": 36,
     "metadata": {},
     "output_type": "execute_result"
    }
   ],
   "source": [
    "s = pd.Series([1,2,3,4,5])\n",
    "result = s.agg(['sum','mean','max'])\n",
    "result"
   ]
  },
  {
   "cell_type": "code",
   "execution_count": 38,
   "id": "a14b9d38",
   "metadata": {},
   "outputs": [
    {
     "data": {
      "text/plain": [
       "A     6.0\n",
       "B    11.0\n",
       "dtype: float64"
      ]
     },
     "execution_count": 38,
     "metadata": {},
     "output_type": "execute_result"
    }
   ],
   "source": [
    "df = pd.DataFrame({\n",
    "    'A':[1,2,3],\n",
    "    'B':[10,11,12]\n",
    "})\n",
    "df.agg({'A':'sum','B' : 'mean'})"
   ]
  },
  {
   "cell_type": "code",
   "execution_count": 50,
   "id": "2c9a6141",
   "metadata": {},
   "outputs": [
    {
     "data": {
      "text/plain": [
       "count     3.0\n",
       "mean     20.0\n",
       "std      10.0\n",
       "min      10.0\n",
       "25%      15.0\n",
       "50%      20.0\n",
       "75%      25.0\n",
       "max      30.0\n",
       "dtype: float64"
      ]
     },
     "execution_count": 50,
     "metadata": {},
     "output_type": "execute_result"
    }
   ],
   "source": [
    "s1 = pd.Series([10,20,30])\n",
    "s2 = pd.Series([5,15,25])\n",
    "\n",
    "# s1 + s2\n",
    "# s1 - s2\n",
    "# s1 * s2\n",
    "# s1 / s2\n",
    "\n",
    "# 통계 연산\n",
    "\n",
    "s1.sum()\n",
    "s1.mean() # 평균\n",
    "s1.max()\n",
    "s1.min()\n",
    "s1.std() # 표준편차\n",
    "s1.var() # 분산\n",
    "s1.median() # 중앙값\n",
    "# 통계 지표\n",
    "s1.describe()"
   ]
  },
  {
   "cell_type": "code",
   "execution_count": null,
   "id": "5950199b",
   "metadata": {},
   "outputs": [
    {
     "data": {
      "text/html": [
       "<div>\n",
       "<style scoped>\n",
       "    .dataframe tbody tr th:only-of-type {\n",
       "        vertical-align: middle;\n",
       "    }\n",
       "\n",
       "    .dataframe tbody tr th {\n",
       "        vertical-align: top;\n",
       "    }\n",
       "\n",
       "    .dataframe thead th {\n",
       "        text-align: right;\n",
       "    }\n",
       "</style>\n",
       "<table border=\"1\" class=\"dataframe\">\n",
       "  <thead>\n",
       "    <tr style=\"text-align: right;\">\n",
       "      <th></th>\n",
       "      <th>group</th>\n",
       "      <th>value1</th>\n",
       "      <th>value2</th>\n",
       "    </tr>\n",
       "  </thead>\n",
       "  <tbody>\n",
       "    <tr>\n",
       "      <th>2</th>\n",
       "      <td>B</td>\n",
       "      <td>30</td>\n",
       "      <td>25</td>\n",
       "    </tr>\n",
       "    <tr>\n",
       "      <th>3</th>\n",
       "      <td>B</td>\n",
       "      <td>40</td>\n",
       "      <td>35</td>\n",
       "    </tr>\n",
       "    <tr>\n",
       "      <th>4</th>\n",
       "      <td>C</td>\n",
       "      <td>50</td>\n",
       "      <td>45</td>\n",
       "    </tr>\n",
       "  </tbody>\n",
       "</table>\n",
       "</div>"
      ],
      "text/plain": [
       "  group  value1  value2\n",
       "2     B      30      25\n",
       "3     B      40      35\n",
       "4     C      50      45"
      ]
     },
     "execution_count": 59,
     "metadata": {},
     "output_type": "execute_result"
    }
   ],
   "source": [
    "data = {\n",
    "    'group' : ['A','A','B','B','C'],\n",
    "    'value1' : [10,20,30,40,50],\n",
    "    'value2' : [5, 15, 25, 35, 45]\n",
    "}\n",
    "df = pd.DataFrame(data)\n",
    "\n",
    "# result =df.groupby('group')['value'].mean()\n",
    "# result =df.groupby('group')['value'].agg(['sum','mean','max'])\n",
    "# result = df.groupby('group').agg({\n",
    "#     'value1' : 'sum',\n",
    "#     'value2' :['mean','max']\n",
    "# })\n",
    "# result = df.groupby('group').filter(lambda x : x['value1'].sum() > 30)\n",
    "\n",
    "\n",
    "result"
   ]
  }
 ],
 "metadata": {
  "kernelspec": {
   "display_name": "kdt_energy1_1",
   "language": "python",
   "name": "python3"
  },
  "language_info": {
   "codemirror_mode": {
    "name": "ipython",
    "version": 3
   },
   "file_extension": ".py",
   "mimetype": "text/x-python",
   "name": "python",
   "nbconvert_exporter": "python",
   "pygments_lexer": "ipython3",
   "version": "3.12.7"
  }
 },
 "nbformat": 4,
 "nbformat_minor": 5
}
